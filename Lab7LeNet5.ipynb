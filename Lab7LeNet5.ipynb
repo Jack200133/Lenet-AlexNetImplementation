{
 "cells": [
  {
   "cell_type": "code",
   "execution_count": 1,
   "id": "c3fdfa50-fdcd-428c-96ad-a032f26ae87e",
   "metadata": {
    "execution": {
     "iopub.execute_input": "2023-09-27T18:34:31.242353Z",
     "iopub.status.busy": "2023-09-27T18:34:31.242075Z",
     "iopub.status.idle": "2023-09-27T18:34:38.302920Z",
     "shell.execute_reply": "2023-09-27T18:34:38.302245Z",
     "shell.execute_reply.started": "2023-09-27T18:34:31.242330Z"
    }
   },
   "outputs": [
    {
     "name": "stdout",
     "output_type": "stream",
     "text": [
      "Downloading http://yann.lecun.com/exdb/mnist/train-images-idx3-ubyte.gz\n",
      "Failed to download (trying next):\n",
      "<urlopen error [Errno 11002] getaddrinfo failed>\n",
      "\n",
      "Downloading https://ossci-datasets.s3.amazonaws.com/mnist/train-images-idx3-ubyte.gz\n",
      "Downloading https://ossci-datasets.s3.amazonaws.com/mnist/train-images-idx3-ubyte.gz to ./data\\MNIST\\raw\\train-images-idx3-ubyte.gz\n"
     ]
    },
    {
     "name": "stderr",
     "output_type": "stream",
     "text": [
      "100.0%\n"
     ]
    },
    {
     "name": "stdout",
     "output_type": "stream",
     "text": [
      "Extracting ./data\\MNIST\\raw\\train-images-idx3-ubyte.gz to ./data\\MNIST\\raw\n",
      "\n",
      "Downloading http://yann.lecun.com/exdb/mnist/train-labels-idx1-ubyte.gz\n",
      "Failed to download (trying next):\n",
      "<urlopen error [Errno 11002] getaddrinfo failed>\n",
      "\n",
      "Downloading https://ossci-datasets.s3.amazonaws.com/mnist/train-labels-idx1-ubyte.gz\n",
      "Downloading https://ossci-datasets.s3.amazonaws.com/mnist/train-labels-idx1-ubyte.gz to ./data\\MNIST\\raw\\train-labels-idx1-ubyte.gz\n"
     ]
    },
    {
     "name": "stderr",
     "output_type": "stream",
     "text": [
      "100.0%\n"
     ]
    },
    {
     "name": "stdout",
     "output_type": "stream",
     "text": [
      "Extracting ./data\\MNIST\\raw\\train-labels-idx1-ubyte.gz to ./data\\MNIST\\raw\n",
      "\n",
      "Downloading http://yann.lecun.com/exdb/mnist/t10k-images-idx3-ubyte.gz\n",
      "Failed to download (trying next):\n",
      "<urlopen error [Errno 11002] getaddrinfo failed>\n",
      "\n",
      "Downloading https://ossci-datasets.s3.amazonaws.com/mnist/t10k-images-idx3-ubyte.gz\n",
      "Downloading https://ossci-datasets.s3.amazonaws.com/mnist/t10k-images-idx3-ubyte.gz to ./data\\MNIST\\raw\\t10k-images-idx3-ubyte.gz\n"
     ]
    },
    {
     "name": "stderr",
     "output_type": "stream",
     "text": [
      "100.0%\n"
     ]
    },
    {
     "name": "stdout",
     "output_type": "stream",
     "text": [
      "Extracting ./data\\MNIST\\raw\\t10k-images-idx3-ubyte.gz to ./data\\MNIST\\raw\n",
      "\n",
      "Downloading http://yann.lecun.com/exdb/mnist/t10k-labels-idx1-ubyte.gz\n"
     ]
    },
    {
     "name": "stderr",
     "output_type": "stream",
     "text": [
      "100.0%"
     ]
    },
    {
     "name": "stdout",
     "output_type": "stream",
     "text": [
      "Downloading http://yann.lecun.com/exdb/mnist/t10k-labels-idx1-ubyte.gz to ./data\\MNIST\\raw\\t10k-labels-idx1-ubyte.gz\n",
      "Extracting ./data\\MNIST\\raw\\t10k-labels-idx1-ubyte.gz to ./data\\MNIST\\raw\n",
      "\n"
     ]
    },
    {
     "name": "stderr",
     "output_type": "stream",
     "text": [
      "\n"
     ]
    }
   ],
   "source": [
    "from torchvision.datasets import MNIST\n",
    "from torchvision import transforms\n",
    "import torch\n",
    "\n",
    "transform = transforms.Compose([transforms.ToTensor(), transforms.Normalize((0.5,), (0.5,))])\n",
    "\n",
    "train_dataset = MNIST(root=\"./data\", train=True, transform=transform, download=True)\n",
    "test_dataset = MNIST(root=\"./data\", train=False, transform=transform, download=True)\n"
   ]
  },
  {
   "cell_type": "code",
   "execution_count": 2,
   "id": "9f0e6fd1-8164-468d-af8c-242d34073b27",
   "metadata": {
    "execution": {
     "iopub.execute_input": "2023-09-27T18:35:18.573152Z",
     "iopub.status.busy": "2023-09-27T18:35:18.572281Z",
     "iopub.status.idle": "2023-09-27T18:35:18.576813Z",
     "shell.execute_reply": "2023-09-27T18:35:18.576082Z",
     "shell.execute_reply.started": "2023-09-27T18:35:18.573127Z"
    }
   },
   "outputs": [],
   "source": [
    "from torch.utils.data import DataLoader\n",
    "\n",
    "train_loader = DataLoader(train_dataset, batch_size=64, shuffle=True)\n",
    "test_loader = DataLoader(test_dataset, batch_size=64, shuffle=False)\n"
   ]
  },
  {
   "cell_type": "code",
   "execution_count": 3,
   "id": "36a1fe1f-b060-46e2-93d8-363632b0118e",
   "metadata": {
    "execution": {
     "iopub.execute_input": "2023-09-27T18:35:33.054348Z",
     "iopub.status.busy": "2023-09-27T18:35:33.054050Z",
     "iopub.status.idle": "2023-09-27T18:35:33.060148Z",
     "shell.execute_reply": "2023-09-27T18:35:33.059376Z",
     "shell.execute_reply.started": "2023-09-27T18:35:33.054324Z"
    }
   },
   "outputs": [],
   "source": [
    "import torch.nn as nn\n",
    "\n",
    "class LeNet5(nn.Module):\n",
    "    def __init__(self):\n",
    "        super(LeNet5, self).__init__()\n",
    "\n",
    "        self.conv1 = nn.Conv2d(1, 6, kernel_size=5)\n",
    "        self.conv2 = nn.Conv2d(6, 16, kernel_size=5)\n",
    "        self.fc1 = nn.Linear(16*4*4, 120)\n",
    "        self.fc2 = nn.Linear(120, 84)\n",
    "        self.fc3 = nn.Linear(84, 10)\n",
    "\n",
    "    def forward(self, x):\n",
    "        x = F.relu(F.max_pool2d(self.conv1(x), 2))\n",
    "        x = F.relu(F.max_pool2d(self.conv2(x), 2))\n",
    "        x = x.view(-1, 16*4*4)\n",
    "        x = F.relu(self.fc1(x))\n",
    "        x = F.relu(self.fc2(x))\n",
    "        x = self.fc3(x)\n",
    "        return F.log_softmax(x, dim=1)\n"
   ]
  },
  {
   "cell_type": "code",
   "execution_count": 8,
   "id": "da277f73-7ad0-455a-9c6b-7c02d9cd8403",
   "metadata": {
    "execution": {
     "iopub.execute_input": "2023-09-27T18:42:12.526563Z",
     "iopub.status.busy": "2023-09-27T18:42:12.526040Z",
     "iopub.status.idle": "2023-09-27T18:42:14.731211Z",
     "shell.execute_reply": "2023-09-27T18:42:14.730613Z",
     "shell.execute_reply.started": "2023-09-27T18:42:12.526536Z"
    }
   },
   "outputs": [],
   "source": [
    "from torch.utils.tensorboard import SummaryWriter\n",
    "\n",
    "# Crea un directorio de resumen para TensorBoard (p.ej., 'runs/lenet5_experiment_1')\n",
    "writer = SummaryWriter('runs/lenet5_experiment_2')\n"
   ]
  },
  {
   "cell_type": "code",
   "execution_count": 9,
   "id": "797f86c5-e8a8-4416-8a6a-678b97f4af53",
   "metadata": {
    "execution": {
     "iopub.execute_input": "2023-09-27T18:43:18.958340Z",
     "iopub.status.busy": "2023-09-27T18:43:18.957704Z",
     "iopub.status.idle": "2023-09-27T18:43:20.316382Z",
     "shell.execute_reply": "2023-09-27T18:43:20.315830Z",
     "shell.execute_reply.started": "2023-09-27T18:43:18.958312Z"
    }
   },
   "outputs": [],
   "source": [
    "import torch.nn.functional as F\n",
    "import torch.optim as optim\n",
    "device = torch.device(\"cuda\" if torch.cuda.is_available() else \"cpu\")\n",
    "model = LeNet5()\n",
    "model.to(device)\n",
    "# Añadir el modelo a TensorBoard\n",
    "images, labels = next(iter(train_loader))\n",
    "writer.add_graph(model, images.to(device))\n",
    "\n",
    "\n",
    "criterion = nn.CrossEntropyLoss()\n",
    "optimizer = optim.Adam(model.parameters(), lr=0.001)\n"
   ]
  },
  {
   "cell_type": "code",
   "execution_count": 10,
   "id": "5862e75f-0189-4d08-8ace-554eab191555",
   "metadata": {
    "execution": {
     "iopub.execute_input": "2023-09-27T18:43:22.384577Z",
     "iopub.status.busy": "2023-09-27T18:43:22.383626Z",
     "iopub.status.idle": "2023-09-27T18:44:51.803717Z",
     "shell.execute_reply": "2023-09-27T18:44:51.803023Z",
     "shell.execute_reply.started": "2023-09-27T18:43:22.384548Z"
    }
   },
   "outputs": [
    {
     "name": "stdout",
     "output_type": "stream",
     "text": [
      "Epoch 1/10, Accuracy: 0.9716, Precision: 1.0000, Recall: 1.0000, F1-score: 1.0000\n",
      "Epoch 2/10, Accuracy: 0.9833, Precision: 0.9991, Recall: 1.0000, F1-score: 0.9996\n",
      "Epoch 3/10, Accuracy: 0.9873, Precision: 1.0000, Recall: 1.0000, F1-score: 1.0000\n",
      "Epoch 4/10, Accuracy: 0.9889, Precision: 0.9991, Recall: 1.0000, F1-score: 0.9996\n",
      "Epoch 5/10, Accuracy: 0.9893, Precision: 0.9991, Recall: 1.0000, F1-score: 0.9996\n",
      "Epoch 6/10, Accuracy: 0.9914, Precision: 1.0000, Recall: 1.0000, F1-score: 1.0000\n",
      "Epoch 7/10, Accuracy: 0.9894, Precision: 1.0000, Recall: 1.0000, F1-score: 1.0000\n",
      "Epoch 8/10, Accuracy: 0.9910, Precision: 0.9991, Recall: 1.0000, F1-score: 0.9996\n",
      "Epoch 9/10, Accuracy: 0.9884, Precision: 0.9991, Recall: 1.0000, F1-score: 0.9996\n",
      "Epoch 10/10, Accuracy: 0.9891, Precision: 1.0000, Recall: 1.0000, F1-score: 1.0000\n"
     ]
    }
   ],
   "source": [
    "num_epochs = 10\n",
    "for epoch in range(num_epochs):\n",
    "    model.train()\n",
    "    running_loss = 0.0\n",
    "    for i, (data, target) in enumerate(train_loader):\n",
    "        data, target = data.to(device), target.to(device)\n",
    "        \n",
    "        optimizer.zero_grad()\n",
    "        output = model(data)\n",
    "        loss = criterion(output, target)\n",
    "        loss.backward()\n",
    "        optimizer.step()\n",
    "        \n",
    "        running_loss += loss.item()\n",
    "        if i % 100 == 99:  # Registrar cada 100 lotes\n",
    "            writer.add_scalar('training loss', running_loss / 100, epoch * len(train_loader) + i)\n",
    "            running_loss = 0.0\n",
    "\n",
    "    # Evaluación\n",
    "    model.eval()\n",
    "    total_correct = 0\n",
    "    TP = 0\n",
    "    TN = 0\n",
    "    FP = 0\n",
    "    FN = 0\n",
    "    \n",
    "    with torch.no_grad():\n",
    "        for data, target in test_loader:\n",
    "            data, target = data.to(device), target.to(device)\n",
    "            output = model(data)\n",
    "            _, predicted = torch.max(output.data, 1)\n",
    "            total_correct += (predicted == target).sum().item()\n",
    "\n",
    "            # Calculo para clasificación binaria\n",
    "            TP += ((predicted == 1) & (target == 1)).sum().item()\n",
    "            TN += ((predicted == 0) & (target == 0)).sum().item()\n",
    "            FP += ((predicted == 1) & (target == 0)).sum().item()\n",
    "            FN += ((predicted == 0) & (target == 1)).sum().item()\n",
    "\n",
    "    accuracy = total_correct / len(test_dataset)\n",
    "    precision = TP / (TP + FP) if TP + FP != 0 else 0\n",
    "    recall = TP / (TP + FN) if TP + FN != 0 else 0\n",
    "    f1 = 2 * (precision * recall) / (precision + recall) if precision + recall != 0 else 0\n",
    "\n",
    "    writer.add_scalar('accuracy', accuracy, epoch)\n",
    "    writer.add_scalar('precision', precision, epoch)\n",
    "    writer.add_scalar('recall', recall, epoch)\n",
    "    writer.add_scalar('f1', f1, epoch)\n",
    "    \n",
    "    print(f\"Epoch {epoch+1}/{num_epochs}, Accuracy: {accuracy:.4f}, Precision: {precision:.4f}, Recall: {recall:.4f}, F1-score: {f1:.4f}\")\n"
   ]
  },
  {
   "cell_type": "markdown",
   "id": "6373194a",
   "metadata": {},
   "source": [
    "# LeNet5 Learning\n",
    "![LeNet5 Learning](./lenet5.png)\n"
   ]
  }
 ],
 "metadata": {
  "kernelspec": {
   "display_name": "Python 3 (ipykernel)",
   "language": "python",
   "name": "python3"
  },
  "language_info": {
   "codemirror_mode": {
    "name": "ipython",
    "version": 3
   },
   "file_extension": ".py",
   "mimetype": "text/x-python",
   "name": "python",
   "nbconvert_exporter": "python",
   "pygments_lexer": "ipython3",
   "version": "3.11.4"
  }
 },
 "nbformat": 4,
 "nbformat_minor": 5
}
