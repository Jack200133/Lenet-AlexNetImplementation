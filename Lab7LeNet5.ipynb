{
 "cells": [
  {
   "cell_type": "code",
   "execution_count": 1,
   "id": "c3fdfa50-fdcd-428c-96ad-a032f26ae87e",
   "metadata": {
    "execution": {
     "iopub.execute_input": "2023-09-27T18:34:31.242353Z",
     "iopub.status.busy": "2023-09-27T18:34:31.242075Z",
     "iopub.status.idle": "2023-09-27T18:34:38.302920Z",
     "shell.execute_reply": "2023-09-27T18:34:38.302245Z",
     "shell.execute_reply.started": "2023-09-27T18:34:31.242330Z"
    }
   },
   "outputs": [
    {
     "name": "stdout",
     "output_type": "stream",
     "text": [
      "Downloading http://yann.lecun.com/exdb/mnist/train-images-idx3-ubyte.gz\n",
      "Downloading http://yann.lecun.com/exdb/mnist/train-images-idx3-ubyte.gz to ./data/MNIST/raw/train-images-idx3-ubyte.gz\n"
     ]
    },
    {
     "data": {
      "application/vnd.jupyter.widget-view+json": {
       "model_id": "a3d0a9ec41bb4cf5900d1b36e48efab6",
       "version_major": 2,
       "version_minor": 0
      },
      "text/plain": [
       "  0%|          | 0/9912422 [00:00<?, ?it/s]"
      ]
     },
     "metadata": {},
     "output_type": "display_data"
    },
    {
     "name": "stdout",
     "output_type": "stream",
     "text": [
      "Extracting ./data/MNIST/raw/train-images-idx3-ubyte.gz to ./data/MNIST/raw\n",
      "\n",
      "Downloading http://yann.lecun.com/exdb/mnist/train-labels-idx1-ubyte.gz\n",
      "Downloading http://yann.lecun.com/exdb/mnist/train-labels-idx1-ubyte.gz to ./data/MNIST/raw/train-labels-idx1-ubyte.gz\n"
     ]
    },
    {
     "data": {
      "application/vnd.jupyter.widget-view+json": {
       "model_id": "90deedfe67a340319f89245d49c495c4",
       "version_major": 2,
       "version_minor": 0
      },
      "text/plain": [
       "  0%|          | 0/28881 [00:00<?, ?it/s]"
      ]
     },
     "metadata": {},
     "output_type": "display_data"
    },
    {
     "name": "stdout",
     "output_type": "stream",
     "text": [
      "Extracting ./data/MNIST/raw/train-labels-idx1-ubyte.gz to ./data/MNIST/raw\n",
      "\n",
      "Downloading http://yann.lecun.com/exdb/mnist/t10k-images-idx3-ubyte.gz\n",
      "Downloading http://yann.lecun.com/exdb/mnist/t10k-images-idx3-ubyte.gz to ./data/MNIST/raw/t10k-images-idx3-ubyte.gz\n"
     ]
    },
    {
     "data": {
      "application/vnd.jupyter.widget-view+json": {
       "model_id": "bfc55b8f9f8049ddbea440beb5a0a1e9",
       "version_major": 2,
       "version_minor": 0
      },
      "text/plain": [
       "  0%|          | 0/1648877 [00:00<?, ?it/s]"
      ]
     },
     "metadata": {},
     "output_type": "display_data"
    },
    {
     "name": "stdout",
     "output_type": "stream",
     "text": [
      "Extracting ./data/MNIST/raw/t10k-images-idx3-ubyte.gz to ./data/MNIST/raw\n",
      "\n",
      "Downloading http://yann.lecun.com/exdb/mnist/t10k-labels-idx1-ubyte.gz\n",
      "Downloading http://yann.lecun.com/exdb/mnist/t10k-labels-idx1-ubyte.gz to ./data/MNIST/raw/t10k-labels-idx1-ubyte.gz\n"
     ]
    },
    {
     "data": {
      "application/vnd.jupyter.widget-view+json": {
       "model_id": "b2907a45440149028ee3616c1c6ff6aa",
       "version_major": 2,
       "version_minor": 0
      },
      "text/plain": [
       "  0%|          | 0/4542 [00:00<?, ?it/s]"
      ]
     },
     "metadata": {},
     "output_type": "display_data"
    },
    {
     "name": "stdout",
     "output_type": "stream",
     "text": [
      "Extracting ./data/MNIST/raw/t10k-labels-idx1-ubyte.gz to ./data/MNIST/raw\n",
      "\n"
     ]
    }
   ],
   "source": [
    "from torchvision.datasets import MNIST\n",
    "from torchvision import transforms\n",
    "import torch\n",
    "\n",
    "transform = transforms.Compose([transforms.ToTensor(), transforms.Normalize((0.5,), (0.5,))])\n",
    "\n",
    "train_dataset = MNIST(root=\"./data\", train=True, transform=transform, download=True)\n",
    "test_dataset = MNIST(root=\"./data\", train=False, transform=transform, download=True)\n"
   ]
  },
  {
   "cell_type": "code",
   "execution_count": 2,
   "id": "9f0e6fd1-8164-468d-af8c-242d34073b27",
   "metadata": {
    "execution": {
     "iopub.execute_input": "2023-09-27T18:35:18.573152Z",
     "iopub.status.busy": "2023-09-27T18:35:18.572281Z",
     "iopub.status.idle": "2023-09-27T18:35:18.576813Z",
     "shell.execute_reply": "2023-09-27T18:35:18.576082Z",
     "shell.execute_reply.started": "2023-09-27T18:35:18.573127Z"
    }
   },
   "outputs": [],
   "source": [
    "from torch.utils.data import DataLoader\n",
    "\n",
    "train_loader = DataLoader(train_dataset, batch_size=64, shuffle=True)\n",
    "test_loader = DataLoader(test_dataset, batch_size=64, shuffle=False)\n"
   ]
  },
  {
   "cell_type": "code",
   "execution_count": 3,
   "id": "36a1fe1f-b060-46e2-93d8-363632b0118e",
   "metadata": {
    "execution": {
     "iopub.execute_input": "2023-09-27T18:35:33.054348Z",
     "iopub.status.busy": "2023-09-27T18:35:33.054050Z",
     "iopub.status.idle": "2023-09-27T18:35:33.060148Z",
     "shell.execute_reply": "2023-09-27T18:35:33.059376Z",
     "shell.execute_reply.started": "2023-09-27T18:35:33.054324Z"
    }
   },
   "outputs": [],
   "source": [
    "import torch.nn as nn\n",
    "\n",
    "class LeNet5(nn.Module):\n",
    "    def __init__(self):\n",
    "        super(LeNet5, self).__init__()\n",
    "\n",
    "        self.conv1 = nn.Conv2d(1, 6, kernel_size=5)\n",
    "        self.conv2 = nn.Conv2d(6, 16, kernel_size=5)\n",
    "        self.fc1 = nn.Linear(16*4*4, 120)\n",
    "        self.fc2 = nn.Linear(120, 84)\n",
    "        self.fc3 = nn.Linear(84, 10)\n",
    "\n",
    "    def forward(self, x):\n",
    "        x = F.relu(F.max_pool2d(self.conv1(x), 2))\n",
    "        x = F.relu(F.max_pool2d(self.conv2(x), 2))\n",
    "        x = x.view(-1, 16*4*4)\n",
    "        x = F.relu(self.fc1(x))\n",
    "        x = F.relu(self.fc2(x))\n",
    "        x = self.fc3(x)\n",
    "        return F.log_softmax(x, dim=1)\n"
   ]
  },
  {
   "cell_type": "code",
   "execution_count": 6,
   "id": "da277f73-7ad0-455a-9c6b-7c02d9cd8403",
   "metadata": {
    "execution": {
     "iopub.execute_input": "2023-09-27T18:42:12.526563Z",
     "iopub.status.busy": "2023-09-27T18:42:12.526040Z",
     "iopub.status.idle": "2023-09-27T18:42:14.731211Z",
     "shell.execute_reply": "2023-09-27T18:42:14.730613Z",
     "shell.execute_reply.started": "2023-09-27T18:42:12.526536Z"
    }
   },
   "outputs": [],
   "source": [
    "from torch.utils.tensorboard import SummaryWriter\n",
    "\n",
    "# Crea un directorio de resumen para TensorBoard (p.ej., 'runs/lenet5_experiment_1')\n",
    "writer = SummaryWriter('runs/lenet5_experiment_1')\n"
   ]
  },
  {
   "cell_type": "code",
   "execution_count": 7,
   "id": "797f86c5-e8a8-4416-8a6a-678b97f4af53",
   "metadata": {
    "execution": {
     "iopub.execute_input": "2023-09-27T18:43:18.958340Z",
     "iopub.status.busy": "2023-09-27T18:43:18.957704Z",
     "iopub.status.idle": "2023-09-27T18:43:20.316382Z",
     "shell.execute_reply": "2023-09-27T18:43:20.315830Z",
     "shell.execute_reply.started": "2023-09-27T18:43:18.958312Z"
    }
   },
   "outputs": [],
   "source": [
    "import torch.nn.functional as F\n",
    "import torch.optim as optim\n",
    "device = torch.device(\"cuda\" if torch.cuda.is_available() else \"cpu\")\n",
    "model = LeNet5()\n",
    "model.to(device)\n",
    "dataiter = iter(train_loader)\n",
    "images, labels = dataiter.next()\n",
    "writer.add_graph(model, images.to(device))\n",
    "\n",
    "\n",
    "criterion = nn.CrossEntropyLoss()\n",
    "optimizer = optim.Adam(model.parameters(), lr=0.001)\n"
   ]
  },
  {
   "cell_type": "code",
   "execution_count": 8,
   "id": "5862e75f-0189-4d08-8ace-554eab191555",
   "metadata": {
    "execution": {
     "iopub.execute_input": "2023-09-27T18:43:22.384577Z",
     "iopub.status.busy": "2023-09-27T18:43:22.383626Z",
     "iopub.status.idle": "2023-09-27T18:44:51.803717Z",
     "shell.execute_reply": "2023-09-27T18:44:51.803023Z",
     "shell.execute_reply.started": "2023-09-27T18:43:22.384548Z"
    }
   },
   "outputs": [
    {
     "name": "stdout",
     "output_type": "stream",
     "text": [
      "Epoch 1/10, Accuracy: 0.9646\n",
      "Epoch 2/10, Accuracy: 0.9811\n",
      "Epoch 3/10, Accuracy: 0.9879\n",
      "Epoch 4/10, Accuracy: 0.9882\n",
      "Epoch 5/10, Accuracy: 0.9905\n",
      "Epoch 6/10, Accuracy: 0.9892\n",
      "Epoch 7/10, Accuracy: 0.9904\n",
      "Epoch 8/10, Accuracy: 0.9877\n",
      "Epoch 9/10, Accuracy: 0.9895\n",
      "Epoch 10/10, Accuracy: 0.9872\n"
     ]
    }
   ],
   "source": [
    "for epoch in range(num_epochs):\n",
    "    model.train()\n",
    "    running_loss = 0.0\n",
    "    for i, (data, target) in enumerate(train_loader):\n",
    "        data, target = data.to(device), target.to(device)\n",
    "        \n",
    "        optimizer.zero_grad()\n",
    "        output = model(data)\n",
    "        loss = criterion(output, target)\n",
    "        loss.backward()\n",
    "        optimizer.step()\n",
    "        \n",
    "        running_loss += loss.item()\n",
    "        if i % 100 == 99:  # Registrar cada 100 lotes\n",
    "            writer.add_scalar('training loss', running_loss / 100, epoch * len(train_loader) + i)\n",
    "            running_loss = 0.0\n",
    "    \n",
    "    # Evaluación\n",
    "    model.eval()\n",
    "    total_correct = 0\n",
    "    with torch.no_grad():\n",
    "        for data, target in test_loader:\n",
    "            data, target = data.to(device), target.to(device)\n",
    "            output = model(data)\n",
    "            _, predicted = torch.max(output.data, 1)\n",
    "            total_correct += (predicted == target).sum().item()\n",
    "\n",
    "    accuracy = total_correct / len(test_dataset)\n",
    "    writer.add_scalar('accuracy', accuracy, epoch)  # Registrar precisión\n",
    "    print(f\"Epoch {epoch+1}/{num_epochs}, Accuracy: {accuracy:.4f}\")\n"
   ]
  }
 ],
 "metadata": {
  "kernelspec": {
   "display_name": "Python 3 (ipykernel)",
   "language": "python",
   "name": "python3"
  },
  "language_info": {
   "codemirror_mode": {
    "name": "ipython",
    "version": 3
   },
   "file_extension": ".py",
   "mimetype": "text/x-python",
   "name": "python",
   "nbconvert_exporter": "python",
   "pygments_lexer": "ipython3",
   "version": "3.9.16"
  }
 },
 "nbformat": 4,
 "nbformat_minor": 5
}
